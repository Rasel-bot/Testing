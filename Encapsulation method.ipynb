{
 "cells": [
  {
   "cell_type": "code",
   "execution_count": 9,
   "id": "30fdb7dc",
   "metadata": {},
   "outputs": [],
   "source": [
    "class Car:\n",
    "    def __init__(self):\n",
    "        self.__updatesoftware()\n",
    "        \n",
    "     #constructor er vitor private method \n",
    "     #evabe declare kora hoy\n",
    "        \n",
    "    def driving(self):\n",
    "        print(\"The car is running\")\n",
    "        \n",
    "    def __updatesoftware(self):\n",
    "        print(\"Software is updating\")"
   ]
  },
  {
   "cell_type": "code",
   "execution_count": 10,
   "id": "47983121",
   "metadata": {},
   "outputs": [
    {
     "name": "stdout",
     "output_type": "stream",
     "text": [
      "Software is updating\n"
     ]
    }
   ],
   "source": [
    "vehicle = Car()"
   ]
  },
  {
   "cell_type": "code",
   "execution_count": 11,
   "id": "5e148880",
   "metadata": {},
   "outputs": [
    {
     "name": "stdout",
     "output_type": "stream",
     "text": [
      "The car is running\n"
     ]
    }
   ],
   "source": [
    "vehicle.driving()"
   ]
  },
  {
   "cell_type": "code",
   "execution_count": null,
   "id": "1ddc7956",
   "metadata": {},
   "outputs": [],
   "source": []
  }
 ],
 "metadata": {
  "kernelspec": {
   "display_name": "Python 3",
   "language": "python",
   "name": "python3"
  },
  "language_info": {
   "codemirror_mode": {
    "name": "ipython",
    "version": 3
   },
   "file_extension": ".py",
   "mimetype": "text/x-python",
   "name": "python",
   "nbconvert_exporter": "python",
   "pygments_lexer": "ipython3",
   "version": "3.8.3"
  }
 },
 "nbformat": 4,
 "nbformat_minor": 5
}
